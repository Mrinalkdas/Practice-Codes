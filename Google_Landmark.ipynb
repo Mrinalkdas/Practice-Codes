{
 "cells": [
  {
   "cell_type": "code",
   "execution_count": 7,
   "metadata": {},
   "outputs": [
    {
     "name": "stderr",
     "output_type": "stream",
     "text": [
      "E:\\Anaconda3\\lib\\site-packages\\PIL\\Image.py:115: RuntimeWarning: The _imaging extension was built for another version of Pillow or PIL:\n",
      "Core version: 6.0.0\n",
      "Pillow version: 4.2.1\n",
      "  warnings.warn(str(v), RuntimeWarning)\n"
     ]
    },
    {
     "ename": "ImportError",
     "evalue": "The _imaging extension was built for another version of Pillow or PIL:\nCore version: 6.0.0\nPillow version: 4.2.1",
     "output_type": "error",
     "traceback": [
      "\u001b[1;31m---------------------------------------------------------------------------\u001b[0m",
      "\u001b[1;31mImportError\u001b[0m                               Traceback (most recent call last)",
      "\u001b[1;32m<ipython-input-7-1029e94f4ffd>\u001b[0m in \u001b[0;36m<module>\u001b[1;34m()\u001b[0m\n\u001b[0;32m     10\u001b[0m \u001b[1;33m\u001b[0m\u001b[0m\n\u001b[0;32m     11\u001b[0m \u001b[1;32mimport\u001b[0m \u001b[0msys\u001b[0m\u001b[1;33m,\u001b[0m \u001b[0mos\u001b[0m\u001b[1;33m,\u001b[0m \u001b[0mmultiprocessing\u001b[0m\u001b[1;33m,\u001b[0m \u001b[0murllib3\u001b[0m\u001b[1;33m,\u001b[0m \u001b[0mcsv\u001b[0m\u001b[1;33m\u001b[0m\u001b[0m\n\u001b[1;32m---> 12\u001b[1;33m \u001b[1;32mfrom\u001b[0m \u001b[0mPIL\u001b[0m \u001b[1;32mimport\u001b[0m \u001b[0mImage\u001b[0m\u001b[1;33m\u001b[0m\u001b[0m\n\u001b[0m\u001b[0;32m     13\u001b[0m \u001b[1;32mfrom\u001b[0m \u001b[0mStringIO\u001b[0m \u001b[1;32mimport\u001b[0m \u001b[0mStringIO\u001b[0m\u001b[1;33m\u001b[0m\u001b[0m\n\u001b[0;32m     14\u001b[0m \u001b[1;33m\u001b[0m\u001b[0m\n",
      "\u001b[1;32mE:\\Anaconda3\\lib\\site-packages\\PIL\\Image.py\u001b[0m in \u001b[0;36m<module>\u001b[1;34m()\u001b[0m\n\u001b[0;32m     98\u001b[0m                           \u001b[1;34m\"Pillow version: %s\"\u001b[0m \u001b[1;33m%\u001b[0m\u001b[1;33m\u001b[0m\u001b[0m\n\u001b[0;32m     99\u001b[0m                           (getattr(core, 'PILLOW_VERSION', None),\n\u001b[1;32m--> 100\u001b[1;33m                            __version__))\n\u001b[0m\u001b[0;32m    101\u001b[0m \u001b[1;33m\u001b[0m\u001b[0m\n\u001b[0;32m    102\u001b[0m \u001b[1;32mexcept\u001b[0m \u001b[0mImportError\u001b[0m \u001b[1;32mas\u001b[0m \u001b[0mv\u001b[0m\u001b[1;33m:\u001b[0m\u001b[1;33m\u001b[0m\u001b[0m\n",
      "\u001b[1;31mImportError\u001b[0m: The _imaging extension was built for another version of Pillow or PIL:\nCore version: 6.0.0\nPillow version: 4.2.1"
     ]
    }
   ],
   "source": [
    "#!/usr/bin/python\n",
    "\n",
    "# Note to Kagglers: This script will not run directly in Kaggle kernels. You\n",
    "# need to download it and run it on your local machine.\n",
    "\n",
    "# Downloads images from the Google Landmarks dataset using multiple threads.\n",
    "# Images that already exist will not be downloaded again, so the script can\n",
    "# resume a partially completed download. All images will be saved in the JPG\n",
    "# format with 90% compression quality.\n",
    "\n",
    "import sys, os, multiprocessing, urllib3, csv\n",
    "from PIL import Image\n",
    "from StringIO import StringIO\n",
    "\n",
    "\n",
    "def ParseData(data_file):\n",
    "  csvfile = open(data_file, 'r')\n",
    "  csvreader = csv.reader(csvfile)\n",
    "  key_url_list = [line[:2] for line in csvreader]\n",
    "  return key_url_list[1:]  # Chop off header\n",
    "\n",
    "\n",
    "def DownloadImage(key_url):\n",
    "  out_dir = sys.argv[2]\n",
    "  (key, url) = key_url\n",
    "  filename = os.path.join(out_dir, '%s.jpg' % key)\n",
    "\n",
    "  if os.path.exists(filename):\n",
    "    print('Image %s already exists. Skipping download.' % filename)\n",
    "    return\n",
    "\n",
    "  try:\n",
    "    response = urllib2.urlopen(url)\n",
    "    image_data = response.read()\n",
    "  except:\n",
    "    print('Warning: Could not download image %s from %s' % (key, url))\n",
    "    return\n",
    "\n",
    "  try:\n",
    "    pil_image = Image.open(StringIO(image_data))\n",
    "  except:\n",
    "    print('Warning: Failed to parse image %s' % key)\n",
    "    return\n",
    "\n",
    "  try:\n",
    "    pil_image_rgb = pil_image.convert('RGB')\n",
    "  except:\n",
    "    print('Warning: Failed to convert image %s to RGB' % key)\n",
    "    return\n",
    "\n",
    "  try:\n",
    "    pil_image_rgb.save(filename, format='JPEG', quality=90)\n",
    "  except:\n",
    "    print('Warning: Failed to save image %s' % filename)\n",
    "    return\n",
    "\n",
    "\n",
    "def Run():\n",
    "  if len(sys.argv) != 3:\n",
    "    print('Syntax: %s <data_file.csv> <output_dir/>' % sys.argv[0])\n",
    "    sys.exit(0)\n",
    "  (data_file, out_dir) = sys.argv[1:]\n",
    "\n",
    "  if not os.path.exists(out_dir):\n",
    "    os.mkdir(out_dir)\n",
    "\n",
    "  key_url_list = ParseData(data_file)\n",
    "  pool = multiprocessing.Pool(processes=50)\n",
    "  pool.map(DownloadImage, key_url_list)\n",
    "\n",
    "\n",
    "if __name__ == '__main__':\n",
    "  Run()"
   ]
  }
 ],
 "metadata": {
  "kernelspec": {
   "display_name": "Python 3",
   "language": "python",
   "name": "python3"
  },
  "language_info": {
   "codemirror_mode": {
    "name": "ipython",
    "version": 3
   },
   "file_extension": ".py",
   "mimetype": "text/x-python",
   "name": "python",
   "nbconvert_exporter": "python",
   "pygments_lexer": "ipython3",
   "version": "3.6.3"
  }
 },
 "nbformat": 4,
 "nbformat_minor": 2
}
