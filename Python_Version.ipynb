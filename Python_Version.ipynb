{
 "cells": [
  {
   "cell_type": "code",
   "execution_count": 1,
   "metadata": {},
   "outputs": [
    {
     "name": "stdout",
     "output_type": "stream",
     "text": [
      "3.6.3 |Anaconda custom (64-bit)| (default, Oct 15 2017, 03:27:45) [MSC v.1900 64 bit (AMD64)]\n"
     ]
    }
   ],
   "source": [
    "import sys\n",
    "print (sys.version)"
   ]
  },
  {
   "cell_type": "code",
   "execution_count": 2,
   "metadata": {},
   "outputs": [
    {
     "name": "stderr",
     "output_type": "stream",
     "text": [
      "E:\\Anaconda3\\lib\\site-packages\\PIL\\Image.py:115: RuntimeWarning: The _imaging extension was built for another version of Pillow or PIL:\n",
      "Core version: 6.0.0\n",
      "Pillow version: 4.2.1\n",
      "  warnings.warn(str(v), RuntimeWarning)\n"
     ]
    },
    {
     "ename": "ImportError",
     "evalue": "The _imaging extension was built for another version of Pillow or PIL:\nCore version: 6.0.0\nPillow version: 4.2.1",
     "output_type": "error",
     "traceback": [
      "\u001b[1;31m---------------------------------------------------------------------------\u001b[0m",
      "\u001b[1;31mImportError\u001b[0m                               Traceback (most recent call last)",
      "\u001b[1;32m<ipython-input-2-8bcdeb07ee6a>\u001b[0m in \u001b[0;36m<module>\u001b[1;34m()\u001b[0m\n\u001b[0;32m      9\u001b[0m \u001b[1;32mimport\u001b[0m \u001b[0mpandas\u001b[0m \u001b[1;32mas\u001b[0m \u001b[0mpd\u001b[0m\u001b[1;33m\u001b[0m\u001b[0m\n\u001b[0;32m     10\u001b[0m \u001b[1;32mimport\u001b[0m \u001b[0mrequests\u001b[0m\u001b[1;33m\u001b[0m\u001b[0m\n\u001b[1;32m---> 11\u001b[1;33m \u001b[1;32mfrom\u001b[0m \u001b[0mPIL\u001b[0m \u001b[1;32mimport\u001b[0m \u001b[0mImage\u001b[0m\u001b[1;33m\u001b[0m\u001b[0m\n\u001b[0m\u001b[0;32m     12\u001b[0m \u001b[1;32mimport\u001b[0m \u001b[0mgevent\u001b[0m\u001b[1;33m.\u001b[0m\u001b[0mpool\u001b[0m\u001b[1;33m\u001b[0m\u001b[0m\n\u001b[0;32m     13\u001b[0m \u001b[1;33m\u001b[0m\u001b[0m\n",
      "\u001b[1;32mE:\\Anaconda3\\lib\\site-packages\\PIL\\Image.py\u001b[0m in \u001b[0;36m<module>\u001b[1;34m()\u001b[0m\n\u001b[0;32m     98\u001b[0m                           \u001b[1;34m\"Pillow version: %s\"\u001b[0m \u001b[1;33m%\u001b[0m\u001b[1;33m\u001b[0m\u001b[0m\n\u001b[0;32m     99\u001b[0m                           (getattr(core, 'PILLOW_VERSION', None),\n\u001b[1;32m--> 100\u001b[1;33m                            __version__))\n\u001b[0m\u001b[0;32m    101\u001b[0m \u001b[1;33m\u001b[0m\u001b[0m\n\u001b[0;32m    102\u001b[0m \u001b[1;32mexcept\u001b[0m \u001b[0mImportError\u001b[0m \u001b[1;32mas\u001b[0m \u001b[0mv\u001b[0m\u001b[1;33m:\u001b[0m\u001b[1;33m\u001b[0m\u001b[0m\n",
      "\u001b[1;31mImportError\u001b[0m: The _imaging extension was built for another version of Pillow or PIL:\nCore version: 6.0.0\nPillow version: 4.2.1"
     ]
    }
   ],
   "source": [
    "#import gevent.monkey; gevent.monkey.patch_all()\n",
    "\n",
    "import argparse\n",
    "import sys\n",
    "import os\n",
    "from io import BytesIO\n",
    "import collections\n",
    "\n",
    "import pandas as pd\n",
    "import requests\n",
    "from PIL import Image\n",
    "import gevent.pool\n",
    "\n",
    "\n",
    "def download(record, output_dir, counter):\n",
    "\n",
    "    print('\\r%s' % counter, end='')\n",
    "    sys.stdout.flush()\n",
    "\n",
    "    counter['total'] += 1\n",
    "\n",
    "    # if an image exists, skip\n",
    "    image_path = os.path.join(output_dir, record.id)\n",
    "    if os.path.exists(image_path):\n",
    "        counter['already-exists'] += 1\n",
    "        return\n",
    "\n",
    "    if record.url == 'None':\n",
    "        counter['no-url'] += 1\n",
    "        return\n",
    "\n",
    "    try:\n",
    "        response = requests.get(record.url, timeout=10)\n",
    "    except requests.RequestException as e:\n",
    "        counter['requests.%s' % e.__class__.__name__] += 1\n",
    "        return\n",
    "\n",
    "    try:\n",
    "        image = Image.open(BytesIO(response.content))\n",
    "    except OSError as e:\n",
    "        counter['image-parse-error'] += 1\n",
    "        return\n",
    "\n",
    "    with open(image_path, 'wb') as fp:\n",
    "        fp.write(response.content)\n",
    "\n",
    "    counter['saved'] += 1\n",
    "\n",
    "        \n",
    "def download_images(input_path, output_dir, pool_size):\n",
    "\n",
    "    with open(input_path) as fp:\n",
    "        df = pd.read_csv(input_path)\n",
    "\n",
    "    skip = 0\n",
    "    df = df.iloc[skip:]\n",
    "\n",
    "    os.makedirs(output_dir, exist_ok=True)\n",
    "    counter = collections.Counter()\n",
    "    _download = lambda x: download(x, output_dir, counter)\n",
    "\n",
    "    print('Start downloading %d images...' % len(df))\n",
    "\n",
    "    pool = gevent.pool.Pool(pool_size)\n",
    "    for record in df.itertuples():\n",
    "        pool.spawn(_download, record)\n",
    "    pool.join()\n",
    "\n",
    "\n",
    "def main():\n",
    "    \n",
    "    parser = argparse.ArgumentParser()\n",
    "    arg = parser.add_argument\n",
    "    arg('input')\n",
    "    arg('output_dir')\n",
    "    arg('--pool-size', type=int, default=10)\n",
    "    args = parser.parse_args()\n",
    "\n",
    "    download_images(args.input, args.output_dir, args.pool_size)\n",
    "\n",
    "\n",
    "if __name__ == '__main__':\n",
    "\n",
    "    # usage\n",
    "    # Please uncomment the 1st line to enable monkey patching (it makes requests async)\n",
    "    # python downloader.py $input $output_dir\n",
    "\n",
    "    # to download test images\n",
    "    # python downloader.py ../input/test.csv ../input/test_images\n",
    "\n",
    "    # increase pool size for faster download \n",
    "    # python downloader.py ../input/train.csv ../input/train_images --pool-size 20\n",
    "\n",
    "    #main()\n",
    "    pass"
   ]
  }
 ],
 "metadata": {
  "kernelspec": {
   "display_name": "Python 3",
   "language": "python",
   "name": "python3"
  },
  "language_info": {
   "codemirror_mode": {
    "name": "ipython",
    "version": 3
   },
   "file_extension": ".py",
   "mimetype": "text/x-python",
   "name": "python",
   "nbconvert_exporter": "python",
   "pygments_lexer": "ipython3",
   "version": "3.6.3"
  }
 },
 "nbformat": 4,
 "nbformat_minor": 2
}
