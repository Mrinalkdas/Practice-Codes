{
 "cells": [
  {
   "cell_type": "code",
   "execution_count": 16,
   "metadata": {
    "collapsed": true
   },
   "outputs": [],
   "source": [
    "import numpy as np\n",
    "import pandas as pd\n",
    "import matplotlib.pyplot as plt\n",
    "from sklearn import preprocessing\n",
    "from sklearn.linear_model import LogisticRegression\n",
    "from sklearn.model_selection import train_test_split"
   ]
  },
  {
   "cell_type": "code",
   "execution_count": 7,
   "metadata": {},
   "outputs": [
    {
     "data": {
      "text/plain": [
       "(90076, 180)"
      ]
     },
     "execution_count": 7,
     "metadata": {},
     "output_type": "execute_result"
    }
   ],
   "source": [
    "data = pd.read_csv('E:/Anaconda3/Data_v5(2).csv')\n",
    "data.shape"
   ]
  },
  {
   "cell_type": "code",
   "execution_count": 8,
   "metadata": {},
   "outputs": [
    {
     "data": {
      "text/plain": [
       "(90076, 180)"
      ]
     },
     "execution_count": 8,
     "metadata": {},
     "output_type": "execute_result"
    }
   ],
   "source": [
    "data = data.dropna()\n",
    "data.shape"
   ]
  },
  {
   "cell_type": "code",
   "execution_count": 9,
   "metadata": {},
   "outputs": [
    {
     "name": "stdout",
     "output_type": "stream",
     "text": [
      "['Run Type', 'NCARNETNO', 'DFLIGHTDT', 'CFLIGHTNO', 'Route', 'CORG', 'O_City_type', 'Org-Reg', 'CDST', 'D_City_type', 'Dst_Reg', 'Distance', 'CVEHTYPE', 'TYPE', 'Vendor', 'Capacity', 'Consdwt', 'Pcs', 'Util_conwt', 'Crit', 'Intra/Inter', 'CCONTTYPE', 'Sch/NSch/Spl', 'Sch. Departure', 'Act. Departure', 'Sch. Arrival', 'Actual Arrival', 'Expected Arrival', 'O_D', 'Departure delay', 'Arrival Delay', 'day', 'year', 'date', 'Delay', 'Delay_Flag', 'Month', 'Weekday', 'Time_Interval', 'O_D_city_type', 'Imp_Routes', 'Imp_Vendors', 'Vendor_city_type', 'Imp_CVEHTYPE', 'Run Type_AIRNET', 'Run Type_SFC', 'Run Type_SPEED', 'TYPE_MXL', 'TYPE_SXL', 'Crit_40-50%', 'Crit_50-60%', 'Crit_60-70%', 'Crit_<40%', 'Crit_>70%', 'Intra/Inter_Inter', 'Intra/Inter_Intra', 'CCONTTYPE_B', 'CCONTTYPE_C', 'CCONTTYPE_M', 'Sch/NSch/Spl_Non-Sch Run', 'Sch/NSch/Spl_Sch Run', 'Sch/NSch/Spl_Spl Run', 'O_D_EAST-EAST', 'O_D_EAST-NORTH', 'O_D_EAST-SOUTH1', 'O_D_EAST-SOUTH2', 'O_D_EAST-WEST1', 'O_D_EAST-WEST2', 'O_D_NORTH-EAST', 'O_D_NORTH-NORTH', 'O_D_NORTH-SOUTH1', 'O_D_NORTH-SOUTH2', 'O_D_NORTH-WEST1', 'O_D_NORTH-WEST2', 'O_D_SOUTH1-EAST', 'O_D_SOUTH1-NORTH', 'O_D_SOUTH1-SOUTH1', 'O_D_SOUTH1-SOUTH2', 'O_D_SOUTH1-WEST1', 'O_D_SOUTH1-WEST2', 'O_D_SOUTH2-EAST', 'O_D_SOUTH2-NORTH', 'O_D_SOUTH2-SOUTH1', 'O_D_SOUTH2-SOUTH2', 'O_D_SOUTH2-WEST1', 'O_D_SOUTH2-WEST2', 'O_D_WEST1-EAST', 'O_D_WEST1-NORTH', 'O_D_WEST1-SOUTH1', 'O_D_WEST1-SOUTH2', 'O_D_WEST1-WEST1', 'O_D_WEST1-WEST2', 'O_D_WEST2-EAST', 'O_D_WEST2-NORTH', 'O_D_WEST2-SOUTH1', 'O_D_WEST2-SOUTH2', 'O_D_WEST2-WEST1', 'O_D_WEST2-WEST2', 'Imp_Routes_ADL', 'Imp_Routes_AVPWBBA', 'Imp_Routes_BAM', 'Imp_Routes_BBL', 'Imp_Routes_BCO', 'Imp_Routes_BTM', 'Imp_Routes_BTR', 'Imp_Routes_BTS', 'Imp_Routes_COB', 'Imp_Routes_GBT', 'Imp_Routes_GVH', 'Imp_Routes_GXK', 'Imp_Routes_IBP', 'Imp_Routes_KSG', 'Imp_Routes_LAM', 'Imp_Routes_MOB', 'Imp_Routes_NAC', 'Imp_Routes_Others', 'Imp_Routes_PQB', 'Imp_Routes_STC', 'Imp_Routes_TRB', 'Imp_Vendors_ABC10', 'Imp_Vendors_ABC12', 'Imp_Vendors_ABC124', 'Imp_Vendors_ABC15', 'Imp_Vendors_ABC180', 'Imp_Vendors_ABC211', 'Imp_Vendors_ABC251', 'Imp_Vendors_ABC27', 'Imp_Vendors_ABC31', 'Imp_Vendors_ABC34', 'Imp_Vendors_ABC36', 'Imp_Vendors_ABC49', 'Imp_Vendors_ABC51', 'Imp_Vendors_ABC54', 'Imp_Vendors_ABC57', 'Imp_Vendors_ABC58', 'Imp_Vendors_ABC60', 'Imp_Vendors_ABC69', 'Imp_Vendors_ABC78', 'Imp_Vendors_ABC85', 'Imp_Vendors_ABC9', 'Imp_Vendors_ABC97', 'Imp_Vendors_Others', 'Imp_CVEHTYPE_H20', 'Imp_CVEHTYPE_H24', 'Imp_CVEHTYPE_L10', 'Imp_CVEHTYPE_L14', 'Imp_CVEHTYPE_L17', 'Imp_CVEHTYPE_LCV', 'Imp_CVEHTYPE_M17', 'Imp_CVEHTYPE_M18', 'Imp_CVEHTYPE_M19', 'Imp_CVEHTYPE_M20', 'Imp_CVEHTYPE_MXL', 'Imp_CVEHTYPE_Others', 'Imp_CVEHTYPE_VAN', 'O_D_city_type_Metro/Metro', 'O_D_city_type_Metro/Non-Metro', 'O_D_city_type_Non-Metro/Metro', 'O_D_city_type_Non-Metro/Non-Metro', 'Month_1', 'Month_2', 'Month_3', 'Month_4', 'Month_5', 'Month_6', 'Month_7', 'Month_8', 'Weekday_Friday', 'Weekday_Monday', 'Weekday_Saturday', 'Weekday_Sunday', 'Weekday_Thursday', 'Weekday_Tuesday', 'Weekday_Wednesday', 'Time_Interval_[0, 4)', 'Time_Interval_[4, 8)', 'Time_Interval_[8, 12)', 'Time_Interval_[12, 16)', 'Time_Interval_[16, 20)', 'Time_Interval_[20, 24)']\n"
     ]
    }
   ],
   "source": [
    "print(list(data.columns))"
   ]
  },
  {
   "cell_type": "code",
   "execution_count": 10,
   "metadata": {},
   "outputs": [
    {
     "data": {
      "text/html": [
       "<div>\n",
       "<style>\n",
       "    .dataframe thead tr:only-child th {\n",
       "        text-align: right;\n",
       "    }\n",
       "\n",
       "    .dataframe thead th {\n",
       "        text-align: left;\n",
       "    }\n",
       "\n",
       "    .dataframe tbody tr th {\n",
       "        vertical-align: top;\n",
       "    }\n",
       "</style>\n",
       "<table border=\"1\" class=\"dataframe\">\n",
       "  <thead>\n",
       "    <tr style=\"text-align: right;\">\n",
       "      <th></th>\n",
       "      <th>Run Type</th>\n",
       "      <th>NCARNETNO</th>\n",
       "      <th>DFLIGHTDT</th>\n",
       "      <th>CFLIGHTNO</th>\n",
       "      <th>Route</th>\n",
       "      <th>CORG</th>\n",
       "      <th>O_City_type</th>\n",
       "      <th>Org-Reg</th>\n",
       "      <th>CDST</th>\n",
       "      <th>D_City_type</th>\n",
       "      <th>...</th>\n",
       "      <th>Weekday_Sunday</th>\n",
       "      <th>Weekday_Thursday</th>\n",
       "      <th>Weekday_Tuesday</th>\n",
       "      <th>Weekday_Wednesday</th>\n",
       "      <th>Time_Interval_[0, 4)</th>\n",
       "      <th>Time_Interval_[4, 8)</th>\n",
       "      <th>Time_Interval_[8, 12)</th>\n",
       "      <th>Time_Interval_[12, 16)</th>\n",
       "      <th>Time_Interval_[16, 20)</th>\n",
       "      <th>Time_Interval_[20, 24)</th>\n",
       "    </tr>\n",
       "  </thead>\n",
       "  <tbody>\n",
       "    <tr>\n",
       "      <th>0</th>\n",
       "      <td>SFC</td>\n",
       "      <td>900000004829856</td>\n",
       "      <td>2018-01-01 00:00:00</td>\n",
       "      <td>PVH11</td>\n",
       "      <td>PVH</td>\n",
       "      <td>PNW</td>\n",
       "      <td>Non-Metro</td>\n",
       "      <td>WEST1</td>\n",
       "      <td>HBW</td>\n",
       "      <td>Non-Metro</td>\n",
       "      <td>...</td>\n",
       "      <td>0</td>\n",
       "      <td>0</td>\n",
       "      <td>0</td>\n",
       "      <td>0</td>\n",
       "      <td>0</td>\n",
       "      <td>1</td>\n",
       "      <td>0</td>\n",
       "      <td>0</td>\n",
       "      <td>0</td>\n",
       "      <td>0</td>\n",
       "    </tr>\n",
       "    <tr>\n",
       "      <th>1</th>\n",
       "      <td>SFC</td>\n",
       "      <td>900000004829641</td>\n",
       "      <td>2018-01-01 00:00:00</td>\n",
       "      <td>AMD11</td>\n",
       "      <td>AMD</td>\n",
       "      <td>AMH</td>\n",
       "      <td>Non-Metro</td>\n",
       "      <td>NORTH</td>\n",
       "      <td>DIA</td>\n",
       "      <td>Non-Metro</td>\n",
       "      <td>...</td>\n",
       "      <td>0</td>\n",
       "      <td>0</td>\n",
       "      <td>0</td>\n",
       "      <td>0</td>\n",
       "      <td>1</td>\n",
       "      <td>0</td>\n",
       "      <td>0</td>\n",
       "      <td>0</td>\n",
       "      <td>0</td>\n",
       "      <td>0</td>\n",
       "    </tr>\n",
       "    <tr>\n",
       "      <th>2</th>\n",
       "      <td>SFC</td>\n",
       "      <td>494218</td>\n",
       "      <td>2018-01-01 00:00:00</td>\n",
       "      <td>DRD12</td>\n",
       "      <td>DRD</td>\n",
       "      <td>DRN</td>\n",
       "      <td>Non-Metro</td>\n",
       "      <td>NORTH</td>\n",
       "      <td>MHP</td>\n",
       "      <td>Metro</td>\n",
       "      <td>...</td>\n",
       "      <td>0</td>\n",
       "      <td>0</td>\n",
       "      <td>0</td>\n",
       "      <td>0</td>\n",
       "      <td>0</td>\n",
       "      <td>0</td>\n",
       "      <td>0</td>\n",
       "      <td>0</td>\n",
       "      <td>1</td>\n",
       "      <td>0</td>\n",
       "    </tr>\n",
       "    <tr>\n",
       "      <th>3</th>\n",
       "      <td>SFC</td>\n",
       "      <td>900000004830087</td>\n",
       "      <td>2018-01-01 00:00:00</td>\n",
       "      <td>JNK11</td>\n",
       "      <td>JNK</td>\n",
       "      <td>JNS</td>\n",
       "      <td>Non-Metro</td>\n",
       "      <td>NORTH</td>\n",
       "      <td>KWH</td>\n",
       "      <td>Non-Metro</td>\n",
       "      <td>...</td>\n",
       "      <td>0</td>\n",
       "      <td>0</td>\n",
       "      <td>0</td>\n",
       "      <td>0</td>\n",
       "      <td>0</td>\n",
       "      <td>0</td>\n",
       "      <td>0</td>\n",
       "      <td>0</td>\n",
       "      <td>1</td>\n",
       "      <td>0</td>\n",
       "    </tr>\n",
       "    <tr>\n",
       "      <th>4</th>\n",
       "      <td>SFC</td>\n",
       "      <td>900000004830457</td>\n",
       "      <td>2018-01-01 00:00:00</td>\n",
       "      <td>QJA12</td>\n",
       "      <td>QJA</td>\n",
       "      <td>ATR</td>\n",
       "      <td>Non-Metro</td>\n",
       "      <td>NORTH</td>\n",
       "      <td>AMH</td>\n",
       "      <td>Non-Metro</td>\n",
       "      <td>...</td>\n",
       "      <td>0</td>\n",
       "      <td>0</td>\n",
       "      <td>0</td>\n",
       "      <td>0</td>\n",
       "      <td>0</td>\n",
       "      <td>0</td>\n",
       "      <td>0</td>\n",
       "      <td>0</td>\n",
       "      <td>0</td>\n",
       "      <td>1</td>\n",
       "    </tr>\n",
       "  </tbody>\n",
       "</table>\n",
       "<p>5 rows × 180 columns</p>\n",
       "</div>"
      ],
      "text/plain": [
       "  Run Type        NCARNETNO            DFLIGHTDT CFLIGHTNO Route CORG  \\\n",
       "0      SFC  900000004829856  2018-01-01 00:00:00     PVH11   PVH  PNW   \n",
       "1      SFC  900000004829641  2018-01-01 00:00:00     AMD11   AMD  AMH   \n",
       "2      SFC           494218  2018-01-01 00:00:00     DRD12   DRD  DRN   \n",
       "3      SFC  900000004830087  2018-01-01 00:00:00     JNK11   JNK  JNS   \n",
       "4      SFC  900000004830457  2018-01-01 00:00:00     QJA12   QJA  ATR   \n",
       "\n",
       "  O_City_type Org-Reg CDST D_City_type          ...           Weekday_Sunday  \\\n",
       "0   Non-Metro   WEST1  HBW   Non-Metro          ...                        0   \n",
       "1   Non-Metro   NORTH  DIA   Non-Metro          ...                        0   \n",
       "2   Non-Metro   NORTH  MHP       Metro          ...                        0   \n",
       "3   Non-Metro   NORTH  KWH   Non-Metro          ...                        0   \n",
       "4   Non-Metro   NORTH  AMH   Non-Metro          ...                        0   \n",
       "\n",
       "   Weekday_Thursday Weekday_Tuesday Weekday_Wednesday Time_Interval_[0, 4)  \\\n",
       "0                 0               0                 0                    0   \n",
       "1                 0               0                 0                    1   \n",
       "2                 0               0                 0                    0   \n",
       "3                 0               0                 0                    0   \n",
       "4                 0               0                 0                    0   \n",
       "\n",
       "   Time_Interval_[4, 8)  Time_Interval_[8, 12)  Time_Interval_[12, 16)  \\\n",
       "0                     1                      0                       0   \n",
       "1                     0                      0                       0   \n",
       "2                     0                      0                       0   \n",
       "3                     0                      0                       0   \n",
       "4                     0                      0                       0   \n",
       "\n",
       "  Time_Interval_[16, 20) Time_Interval_[20, 24)  \n",
       "0                      0                      0  \n",
       "1                      0                      0  \n",
       "2                      1                      0  \n",
       "3                      1                      0  \n",
       "4                      0                      1  \n",
       "\n",
       "[5 rows x 180 columns]"
      ]
     },
     "execution_count": 10,
     "metadata": {},
     "output_type": "execute_result"
    }
   ],
   "source": [
    "data.head()"
   ]
  },
  {
   "cell_type": "code",
   "execution_count": 11,
   "metadata": {},
   "outputs": [
    {
     "data": {
      "text/plain": [
       "0    51474\n",
       "1    38602\n",
       "Name: Delay_Flag, dtype: int64"
      ]
     },
     "execution_count": 11,
     "metadata": {},
     "output_type": "execute_result"
    }
   ],
   "source": [
    "# delay flag distribution\n",
    "data1 = data #making a copy\n",
    "data1['Delay_Flag'].value_counts()"
   ]
  },
  {
   "cell_type": "code",
   "execution_count": 47,
   "metadata": {},
   "outputs": [
    {
     "data": {
      "text/plain": [
       "<matplotlib.axes._subplots.AxesSubplot at 0x14586467cf8>"
      ]
     },
     "execution_count": 47,
     "metadata": {},
     "output_type": "execute_result"
    },
    {
     "data": {
      "image/png": "[encoded data removed]",
      "text/plain": [
       "<matplotlib.figure.Figure at 0x1458646cd68>"
      ]
     },
     "metadata": {},
     "output_type": "display_data"
    }
   ],
   "source": [
    "import seaborn as sns\n",
    "sns.countplot(x='Delay_Flag', data=data1)"
   ]
  },
  {
   "cell_type": "code",
   "execution_count": 48,
   "metadata": {
    "collapsed": true
   },
   "outputs": [],
   "source": [
    "# data1.groupby('O_D_city_type').mean()"
   ]
  },
  {
   "cell_type": "code",
   "execution_count": 12,
   "metadata": {},
   "outputs": [
    {
     "data": {
      "image/png": "[encoded data removed]",
      "text/plain": [
       "<matplotlib.figure.Figure at 0x1fe07c3b320>"
      ]
     },
     "metadata": {},
     "output_type": "display_data"
    }
   ],
   "source": [
    "%matplotlib inline\n",
    "pd.crosstab(data1.O_D_city_type,data.Delay_Flag).plot(kind='bar')\n",
    "plt.title('Delay_at_City_Type_Level')\n",
    "plt.xlabel('O_D_city_type')\n",
    "plt.ylabel('Delay_Flag')\n",
    "plt.savefig('Delay_at_City_Type_Level')"
   ]
  },
  {
   "cell_type": "code",
   "execution_count": 13,
   "metadata": {},
   "outputs": [
    {
     "name": "stdout",
     "output_type": "stream",
     "text": [
      "(90076, 180)\n"
     ]
    },
    {
     "data": {
      "text/plain": [
       "(90076, 142)"
      ]
     },
     "execution_count": 13,
     "metadata": {},
     "output_type": "execute_result"
    }
   ],
   "source": [
    "print(data1.shape)\n",
    "data2= data1.filter(['Distance','Capacity', 'Consdwt', 'Pcs', 'Departure delay', 'Delay_Flag','Run Type_AIRNET', 'Run Type_SFC', 'Run Type_SPEED', 'TYPE_MXL', 'TYPE_SXL', 'Crit_40-50%', 'Crit_50-60%', 'Crit_60-70%', 'Crit_<40%', 'Crit_>70%', 'Intra/Inter_Inter', 'Intra/Inter_Intra', 'CCONTTYPE_B', 'CCONTTYPE_C', 'CCONTTYPE_M', 'Sch/NSch/Spl_Non-Sch Run', 'Sch/NSch/Spl_Sch Run', 'Sch/NSch/Spl_Spl Run', 'O_D_EAST-EAST', 'O_D_EAST-NORTH', 'O_D_EAST-SOUTH1', 'O_D_EAST-SOUTH2', 'O_D_EAST-WEST1', 'O_D_EAST-WEST2', 'O_D_NORTH-EAST', 'O_D_NORTH-NORTH', 'O_D_NORTH-SOUTH1', 'O_D_NORTH-SOUTH2', 'O_D_NORTH-WEST1', 'O_D_NORTH-WEST2', 'O_D_SOUTH1-EAST', 'O_D_SOUTH1-NORTH', 'O_D_SOUTH1-SOUTH1', 'O_D_SOUTH1-SOUTH2', 'O_D_SOUTH1-WEST1', 'O_D_SOUTH1-WEST2', 'O_D_SOUTH2-EAST', 'O_D_SOUTH2-NORTH', 'O_D_SOUTH2-SOUTH1', 'O_D_SOUTH2-SOUTH2', 'O_D_SOUTH2-WEST1', 'O_D_SOUTH2-WEST2', 'O_D_WEST1-EAST', 'O_D_WEST1-NORTH', 'O_D_WEST1-SOUTH1', 'O_D_WEST1-SOUTH2', 'O_D_WEST1-WEST1', 'O_D_WEST1-WEST2', 'O_D_WEST2-EAST', 'O_D_WEST2-NORTH', 'O_D_WEST2-SOUTH1', 'O_D_WEST2-SOUTH2', 'O_D_WEST2-WEST1', 'O_D_WEST2-WEST2', 'Imp_Routes_ADL', 'Imp_Routes_AVPWBBA', 'Imp_Routes_BAM', 'Imp_Routes_BBL', 'Imp_Routes_BCO', 'Imp_Routes_BTM', 'Imp_Routes_BTR', 'Imp_Routes_BTS', 'Imp_Routes_COB', 'Imp_Routes_GBT', 'Imp_Routes_GVH', 'Imp_Routes_GXK', 'Imp_Routes_IBP', 'Imp_Routes_KSG', 'Imp_Routes_LAM', 'Imp_Routes_MOB', 'Imp_Routes_NAC', 'Imp_Routes_Others', 'Imp_Routes_PQB', 'Imp_Routes_STC', 'Imp_Routes_TRB', 'Imp_Vendors_ABC10', 'Imp_Vendors_ABC12', 'Imp_Vendors_ABC124', 'Imp_Vendors_ABC15', 'Imp_Vendors_ABC180', 'Imp_Vendors_ABC211', 'Imp_Vendors_ABC251', 'Imp_Vendors_ABC27', 'Imp_Vendors_ABC31', 'Imp_Vendors_ABC34', 'Imp_Vendors_ABC36', 'Imp_Vendors_ABC49', 'Imp_Vendors_ABC51', 'Imp_Vendors_ABC54', 'Imp_Vendors_ABC57', 'Imp_Vendors_ABC58', 'Imp_Vendors_ABC60', 'Imp_Vendors_ABC69', 'Imp_Vendors_ABC78', 'Imp_Vendors_ABC85', 'Imp_Vendors_ABC9', 'Imp_Vendors_ABC97', 'Imp_Vendors_Others', 'Imp_CVEHTYPE_H20', 'Imp_CVEHTYPE_H24', 'Imp_CVEHTYPE_L10', 'Imp_CVEHTYPE_L14', 'Imp_CVEHTYPE_L17', 'Imp_CVEHTYPE_LCV', 'Imp_CVEHTYPE_M17', 'Imp_CVEHTYPE_M18', 'Imp_CVEHTYPE_M19', 'Imp_CVEHTYPE_M20', 'Imp_CVEHTYPE_MXL', 'Imp_CVEHTYPE_Others', 'Imp_CVEHTYPE_VAN', 'O_D_city_type_Metro/Metro', 'O_D_city_type_Metro/Non-Metro', 'O_D_city_type_Non-Metro/Metro', 'O_D_city_type_Non-Metro/Non-Metro', 'Month_1', 'Month_2', 'Month_3', 'Month_4', 'Month_5', 'Month_6', 'Month_7', 'Month_8', 'Weekday_Friday', 'Weekday_Monday', 'Weekday_Saturday', 'Weekday_Sunday', 'Weekday_Thursday', 'Weekday_Tuesday', 'Weekday_Wednesday', 'Time_Interval_[0, 4)', 'Time_Interval_[4, 8)', 'Time_Interval_[8, 12)', 'Time_Interval_[12, 16)', 'Time_Interval_[16, 20)', 'Time_Interval_[20, 24)'], axis=1)\n",
    "\n",
    "data2.shape"
   ]
  },
  {
   "cell_type": "markdown",
   "metadata": {},
   "source": [
    "## SMOTE Algo for class imbalance"
   ]
  },
  {
   "cell_type": "code",
   "execution_count": 20,
   "metadata": {},
   "outputs": [
    {
     "name": "stderr",
     "output_type": "stream",
     "text": [
      "E:\\Anaconda3\\lib\\site-packages\\sklearn\\utils\\validation.py:578: DataConversionWarning: A column-vector y was passed when a 1d array was expected. Please change the shape of y to (n_samples, ), for example using ravel().\n",
      "  \n"
     ]
    },
    {
     "name": "stdout",
     "output_type": "stream",
     "text": [
      "length of oversampled data is  72044\n",
      "Number of no subscription in oversampled data 36022\n",
      "Number of subscription 36022\n",
      "Proportion of no subscription data in oversampled data is  0.5\n",
      "Proportion of subscription data in oversampled data is  0.5\n"
     ]
    }
   ],
   "source": [
    "X = data2.loc[:, data2.columns != 'Delay_Flag']\n",
    "y = data2.loc[:, data2.columns == 'Delay_Flag']\n",
    "from imblearn.over_sampling import SMOTE\n",
    "os = SMOTE(random_state=0)\n",
    "X_train, X_test, y_train, y_test = train_test_split(X, y, test_size=0.3, random_state=0)\n",
    "columns = X_train.columns\n",
    "os_data_X,os_data_y=os.fit_sample(X_train, y_train)\n",
    "os_data_X = pd.DataFrame(data=os_data_X,columns=columns )\n",
    "os_data_y= pd.DataFrame(data=os_data_y,columns=['y'])\n",
    "# we can Check the numbers of our data\n",
    "print(\"length of oversampled data is \",len(os_data_X))\n",
    "print(\"Number of no subscription in oversampled data\",len(os_data_y[os_data_y['y']==0]))\n",
    "print(\"Number of subscription\",len(os_data_y[os_data_y['y']==1]))\n",
    "print(\"Proportion of no subscription data in oversampled data is \",len(os_data_y[os_data_y['y']==0])/len(os_data_X))\n",
    "print(\"Proportion of subscription data in oversampled data is \",len(os_data_y[os_data_y['y']==1])/len(os_data_X))\n"
   ]
  },
  {
   "cell_type": "code",
   "execution_count": 21,
   "metadata": {},
   "outputs": [
    {
     "data": {
      "text/plain": [
       "((27023, 141), (63053, 141), (72044, 141))"
      ]
     },
     "execution_count": 21,
     "metadata": {},
     "output_type": "execute_result"
    }
   ],
   "source": [
    "X_test.shape, X_train.shape, os_data_X.shape"
   ]
  },
  {
   "cell_type": "markdown",
   "metadata": {},
   "source": [
    "## Recursive Feature Elimination\n",
    "\n",
    "Recursive Feature Elimination (RFE) is based on the idea to repeatedly construct a model and choose either the best or worst performing feature, setting the feature aside and then repeating the process with the rest of the features. This process is applied until all features in the dataset are exhausted. The goal of RFE is to select features by recursively considering smaller and smaller sets of features."
   ]
  },
  {
   "cell_type": "code",
   "execution_count": 22,
   "metadata": {},
   "outputs": [
    {
     "name": "stdout",
     "output_type": "stream",
     "text": [
      "[False False False False False False False False False  True False False\n",
      " False False False False False  True False False False False False False\n",
      " False False  True False  True False False False False False False False\n",
      " False False False False False False False False False False False False\n",
      " False False False False False  True False False  True False False False\n",
      "  True False  True False False False False  True  True False False False\n",
      " False False False False  True False False False False False False False\n",
      "  True False  True False False  True  True  True False False False  True\n",
      "  True False False  True False False  True False False False False False\n",
      " False False False False False False False False False False False False\n",
      " False False False False False False False False False False False False\n",
      " False False False False False False False False False]\n",
      "[119 122 121 120  56  14 101  24 105   1  82  81 103  83  58  66  34   1\n",
      "  26  25  30  29  69  71  55  27   1  33   1  50  87  23  31   3  59   2\n",
      "  44 107  13  63  41 102  49  43 109  61 116 113  91  32  10  21  92   1\n",
      "  90  73   1 112  76   7   1 118   1   6  42   5 115   1   1 110  68  77\n",
      "  74   8  35  12   1  19   4  20  16  48  47   9   1  28   1  88  51   1\n",
      "   1   1  95  65  15   1   1  11  53   1  94  70   1 111  72  17  54  89\n",
      "  40  52  79  18 106  67  45  22  84  86  85  78  38  37  39  93 108 117\n",
      "  60  57  98  99 100 114  96  80  97  62  75 104  46  36  64]\n"
     ]
    }
   ],
   "source": [
    "data2_vars=data2.columns.values.tolist()\n",
    "y=['Delay_Flag']\n",
    "X=[i for i in data2_vars if i not in y]\n",
    "from sklearn.feature_selection import RFE\n",
    "from sklearn.linear_model import LogisticRegression\n",
    "logreg = LogisticRegression(solver='liblinear')\n",
    "rfe = RFE(logreg, 20)\n",
    "rfe = rfe.fit(os_data_X, os_data_y.values.ravel())\n",
    "print(rfe.support_)\n",
    "print(rfe.ranking_)"
   ]
  },
  {
   "cell_type": "code",
   "execution_count": 23,
   "metadata": {
    "collapsed": true
   },
   "outputs": [],
   "source": [
    "scores = []\n",
    "for i in range(141):\n",
    "    scores.append((rfe.ranking_[i],os_data_X.columns[i]))"
   ]
  },
  {
   "cell_type": "code",
   "execution_count": 24,
   "metadata": {
    "collapsed": true
   },
   "outputs": [],
   "source": [
    "# scores"
   ]
  },
  {
   "cell_type": "code",
   "execution_count": 25,
   "metadata": {},
   "outputs": [
    {
     "data": {
      "text/plain": [
       "['TYPE_SXL',\n",
       " 'CCONTTYPE_B',\n",
       " 'O_D_EAST-SOUTH2',\n",
       " 'O_D_EAST-WEST2',\n",
       " 'O_D_WEST2-EAST',\n",
       " 'O_D_WEST2-SOUTH2',\n",
       " 'Imp_Routes_AVPWBBA',\n",
       " 'Imp_Routes_BBL',\n",
       " 'Imp_Routes_COB',\n",
       " 'Imp_Routes_GBT',\n",
       " 'Imp_Routes_Others',\n",
       " 'Imp_Vendors_ABC180',\n",
       " 'Imp_Vendors_ABC251',\n",
       " 'Imp_Vendors_ABC34',\n",
       " 'Imp_Vendors_ABC36',\n",
       " 'Imp_Vendors_ABC49',\n",
       " 'Imp_Vendors_ABC58',\n",
       " 'Imp_Vendors_ABC60',\n",
       " 'Imp_Vendors_ABC85',\n",
       " 'Imp_Vendors_Others']"
      ]
     },
     "execution_count": 25,
     "metadata": {},
     "output_type": "execute_result"
    }
   ],
   "source": [
    "#important features\n",
    "cols = list(s[1] for s in scores if (s[0]==1))# or s[0]==2))\n",
    "cols"
   ]
  },
  {
   "cell_type": "code",
   "execution_count": 26,
   "metadata": {
    "collapsed": true
   },
   "outputs": [],
   "source": [
    "X=os_data_X[cols]\n",
    "y=os_data_y['y']"
   ]
  },
  {
   "cell_type": "code",
   "execution_count": 27,
   "metadata": {},
   "outputs": [
    {
     "name": "stderr",
     "output_type": "stream",
     "text": [
      "E:\\Anaconda3\\lib\\site-packages\\statsmodels\\compat\\pandas.py:56: FutureWarning: The pandas.core.datetools module is deprecated and will be removed in a future version. Please use the pandas.tseries module instead.\n",
      "  from pandas.core import datetools\n"
     ]
    },
    {
     "name": "stdout",
     "output_type": "stream",
     "text": [
      "Optimization terminated successfully.\n",
      "         Current function value: 0.638655\n",
      "         Iterations 9\n",
      "                          Results: Logit\n",
      "===================================================================\n",
      "Model:                Logit            Pseudo R-squared: 0.079     \n",
      "Dependent Variable:   y                AIC:              92062.5190\n",
      "Date:                 2018-11-30 15:28 BIC:              92246.2197\n",
      "No. Observations:     72044            Log-Likelihood:   -46011.   \n",
      "Df Model:             19               LL-Null:          -49937.   \n",
      "Df Residuals:         72024            LLR p-value:      0.0000    \n",
      "Converged:            1.0000           Scale:            1.0000    \n",
      "No. Iterations:       9.0000                                       \n",
      "-------------------------------------------------------------------\n",
      "                    Coef.  Std.Err.    z     P>|z|   [0.025  0.975]\n",
      "-------------------------------------------------------------------\n",
      "TYPE_SXL           -1.8278   0.0337 -54.2074 0.0000 -1.8939 -1.7617\n",
      "CCONTTYPE_B        -3.0533   0.2963 -10.3036 0.0000 -3.6341 -2.4725\n",
      "O_D_EAST-SOUTH2     1.4897   0.1350  11.0383 0.0000  1.2252  1.7542\n",
      "O_D_EAST-WEST2      2.0317   0.3009   6.7525 0.0000  1.4420  2.6214\n",
      "O_D_WEST2-EAST      2.0740   0.2914   7.1187 0.0000  1.5030  2.6451\n",
      "O_D_WEST2-SOUTH2    1.6187   0.1582  10.2318 0.0000  1.3086  1.9288\n",
      "Imp_Routes_AVPWBBA -1.6782   0.2135  -7.8596 0.0000 -2.0967 -1.2597\n",
      "Imp_Routes_BBL      2.8521   0.1365  20.8926 0.0000  2.5846  3.1197\n",
      "Imp_Routes_COB     -1.7224   0.2078  -8.2895 0.0000 -2.1297 -1.3152\n",
      "Imp_Routes_GBT      1.1190   0.1800   6.2159 0.0000  0.7662  1.4718\n",
      "Imp_Routes_Others   0.8706   0.0281  30.9366 0.0000  0.8155  0.9258\n",
      "Imp_Vendors_ABC180  2.7490   0.1578  17.4164 0.0000  2.4397  3.0584\n",
      "Imp_Vendors_ABC251  0.8012   0.0923   8.6818 0.0000  0.6203  0.9820\n",
      "Imp_Vendors_ABC34   1.6105   0.0672  23.9589 0.0000  1.4788  1.7423\n",
      "Imp_Vendors_ABC36  -3.2637   0.5127  -6.3660 0.0000 -4.2685 -2.2589\n",
      "Imp_Vendors_ABC49  -2.1102   0.3476  -6.0711 0.0000 -2.7914 -1.4289\n",
      "Imp_Vendors_ABC58   3.3122   0.1835  18.0459 0.0000  2.9524  3.6719\n",
      "Imp_Vendors_ABC60   2.2283   0.0725  30.7135 0.0000  2.0861  2.3705\n",
      "Imp_Vendors_ABC85  -3.9880   0.7100  -5.6169 0.0000 -5.3796 -2.5964\n",
      "Imp_Vendors_Others  1.1197   0.0246  45.5018 0.0000  1.0715  1.1680\n",
      "===================================================================\n",
      "\n"
     ]
    }
   ],
   "source": [
    "\n",
    "import statsmodels.api as sm\n",
    "logit_model=sm.Logit(y,X)\n",
    "result=logit_model.fit()\n",
    "print(result.summary2())"
   ]
  },
  {
   "cell_type": "code",
   "execution_count": 29,
   "metadata": {},
   "outputs": [
    {
     "data": {
      "text/plain": [
       "LogisticRegression(C=1.0, class_weight=None, dual=False, fit_intercept=True,\n",
       "          intercept_scaling=1, max_iter=100, multi_class='ovr', n_jobs=1,\n",
       "          penalty='l2', random_state=None, solver='liblinear', tol=0.0001,\n",
       "          verbose=0, warm_start=False)"
      ]
     },
     "execution_count": 29,
     "metadata": {},
     "output_type": "execute_result"
    }
   ],
   "source": [
    "from sklearn.linear_model import LogisticRegression\n",
    "from sklearn import metrics\n",
    "X_train, X_test, y_train, y_test = train_test_split(X, y, test_size=0.3, random_state=0)\n",
    "logreg = LogisticRegression()\n",
    "logreg.fit(X_train, y_train)"
   ]
  },
  {
   "cell_type": "code",
   "execution_count": 30,
   "metadata": {},
   "outputs": [
    {
     "name": "stdout",
     "output_type": "stream",
     "text": [
      "Accuracy of logistic regression classifier on test set: 0.62\n"
     ]
    }
   ],
   "source": [
    "y_pred = logreg.predict(X_test)\n",
    "print('Accuracy of logistic regression classifier on test set: {:.2f}'.format(logreg.score(X_test, y_test)))"
   ]
  },
  {
   "cell_type": "code",
   "execution_count": 31,
   "metadata": {},
   "outputs": [
    {
     "name": "stdout",
     "output_type": "stream",
     "text": [
      "[[3721 7133]\n",
      " [1168 9592]]\n"
     ]
    }
   ],
   "source": [
    "from sklearn.metrics import confusion_matrix\n",
    "confusion_matrix = confusion_matrix(y_test, y_pred)\n",
    "print(confusion_matrix)"
   ]
  },
  {
   "cell_type": "code",
   "execution_count": 32,
   "metadata": {},
   "outputs": [
    {
     "name": "stdout",
     "output_type": "stream",
     "text": [
      "             precision    recall  f1-score   support\n",
      "\n",
      "          0       0.76      0.34      0.47     10854\n",
      "          1       0.57      0.89      0.70     10760\n",
      "\n",
      "avg / total       0.67      0.62      0.58     21614\n",
      "\n"
     ]
    }
   ],
   "source": [
    "from sklearn.metrics import classification_report\n",
    "print(classification_report(y_test, y_pred))"
   ]
  },
  {
   "cell_type": "code",
   "execution_count": null,
   "metadata": {
    "collapsed": true
   },
   "outputs": [],
   "source": []
  }
 ],
 "metadata": {
  "kernelspec": {
   "display_name": "Python 3",
   "language": "python",
   "name": "python3"
  },
  "language_info": {
   "codemirror_mode": {
    "name": "ipython",
    "version": 3
   },
   "file_extension": ".py",
   "mimetype": "text/x-python",
   "name": "python",
   "nbconvert_exporter": "python",
   "pygments_lexer": "ipython3",
   "version": "3.6.3"
  }
 },
 "nbformat": 4,
 "nbformat_minor": 2
}
