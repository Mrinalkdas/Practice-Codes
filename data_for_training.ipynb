{
 "cells": [
  {
   "cell_type": "code",
   "execution_count": 1,
   "metadata": {},
   "outputs": [],
   "source": [
    "import sys\n",
    "import os\n",
    "\n",
    "from collections import Counter\n",
    "import pandas as pd\n",
    "import numpy as np\n",
    "import glob\n",
    "import h5py\n",
    "import cv2\n",
    "\n",
    "import matplotlib.pyplot as plt\n",
    "%matplotlib inline\n",
    "import seaborn as sns\n",
    "\n",
    "from datetime import datetime\n",
    "import time\n",
    "\n",
    "start = time.time()"
   ]
  },
  {
   "cell_type": "code",
   "execution_count": 23,
   "metadata": {},
   "outputs": [],
   "source": [
    "os.chdir('/data/data_backup_affine/Data_v2')\n"
   ]
  },
  {
   "cell_type": "code",
   "execution_count": 25,
   "metadata": {},
   "outputs": [
    {
     "data": {
      "text/plain": [
       "790"
      ]
     },
     "execution_count": 25,
     "metadata": {},
     "output_type": "execute_result"
    }
   ],
   "source": [
    "df = pd.read_csv('Data_Annotation_v6.csv', encoding = 'latin-1')\n",
    "# df = pd.read_csv('Data_Annotation_v4.csv', encoding = 'latin-1')\n",
    "total_accident_cases = list(df['accident_no'])\n",
    "accident_cases = list(set(df['accident_no']))\n",
    "len(total_accident_cases)\n",
    "\n",
    "#len(accident_cases)"
   ]
  },
  {
   "cell_type": "code",
   "execution_count": 12,
   "metadata": {},
   "outputs": [
    {
     "data": {
      "text/plain": [
       "((790, 15), (790, 15))"
      ]
     },
     "execution_count": 12,
     "metadata": {},
     "output_type": "execute_result"
    }
   ],
   "source": [
    "cdc = [col for col in list(df.columns) if \"code\" in col]\n",
    "data_df = df.loc[pd.notnull(df[cdc]).all(axis=1),:]\n",
    "df.shape, data_df.shape"
   ]
  },
  {
   "cell_type": "code",
   "execution_count": 16,
   "metadata": {},
   "outputs": [
    {
     "data": {
      "text/plain": [
       "((670, 15), (120, 15))"
      ]
     },
     "execution_count": 16,
     "metadata": {},
     "output_type": "execute_result"
    }
   ],
   "source": [
    "train_df = df.loc[df['split'] == 'train',:]\n",
    "val_df = df.loc[df['split'] == 'val',:]\n",
    "train_df.shape, val_df.shape"
   ]
  },
  {
   "cell_type": "code",
   "execution_count": 18,
   "metadata": {},
   "outputs": [
    {
     "data": {
      "text/plain": [
       "(670, 120)"
      ]
     },
     "execution_count": 18,
     "metadata": {},
     "output_type": "execute_result"
    }
   ],
   "source": [
    "len(set(train_df['accident_code'])), len(set(val_df['accident_code']))"
   ]
  },
  {
   "cell_type": "code",
   "execution_count": null,
   "metadata": {},
   "outputs": [],
   "source": [
    "train_df"
   ]
  },
  {
   "cell_type": "code",
   "execution_count": null,
   "metadata": {},
   "outputs": [],
   "source": [
    "train_data_path = '/data/data_backup_affine/Data_v2/train_v6/'\n",
    "validation_data_path = '/data/data_backup_affine/Data_v2/val_v6/'\n",
    "# test_data_path = './test_v4/'\n",
    "filtered_image_path = './filtered_images/'\n",
    "\n",
    "def create_img_folder(folder_path, df, list_index, image_path):\n",
    "    \n",
    "    print(folder_path)\n",
    "    try:\n",
    "        os.mkdir(folder_path)\n",
    "    except OSError:\n",
    "        print (\"Creation of the directory %s failed\" % folder_path)\n",
    "\n",
    "    for i in list_index:\n",
    "        \n",
    "        img = df.loc[i,'accident_no'] +'/' + df.loc[i,'img_name']\n",
    "        try:\n",
    "            img_1 = cv2.imread(glob.glob(image_path + img + '.*')[0])\n",
    "            cv2.imwrite(folder_path + df.loc[i,'filename'] + '.jpg', img_1) \n",
    "        except:\n",
    "            print(img)\n",
    " \n",
    "            \n",
    "create_img_folder(train_data_path, train_df, train_df.index, filtered_image_path)\n",
    "create_img_folder(validation_data_path, val_df, val_df.index, filtered_image_path)"
   ]
  },
  {
   "cell_type": "code",
   "execution_count": null,
   "metadata": {},
   "outputs": [],
   "source": []
  }
 ],
 "metadata": {
  "kernelspec": {
   "display_name": "Python 3",
   "language": "python",
   "name": "python3"
  },
  "language_info": {
   "codemirror_mode": {
    "name": "ipython",
    "version": 3
   },
   "file_extension": ".py",
   "mimetype": "text/x-python",
   "name": "python",
   "nbconvert_exporter": "python",
   "pygments_lexer": "ipython3",
   "version": "3.6.8"
  }
 },
 "nbformat": 4,
 "nbformat_minor": 2
}
