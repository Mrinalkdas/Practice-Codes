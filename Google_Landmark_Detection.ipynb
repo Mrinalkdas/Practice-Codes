{
 "cells": [
  {
   "cell_type": "code",
   "execution_count": 5,
   "metadata": {},
   "outputs": [
    {
     "name": "stdout",
     "output_type": "stream",
     "text": [
      "['Affine Layouts', 'April 2019 - Appraisal', 'BIAH KT Plan - Mrinal.xlsx', 'Desktop Data', 'desktop.ini', 'Offshore Delivery - Upto Consultant-Ajit.xlsx', 'Offshore-Delivery Mrinal Das.xlsx', 'Order HPEPO3617.htm', 'RE Affine Analytics SoW - Walmart PoC.msg', 'RE Walmart update - Videos.msg', 'Videos', 'Walmart POC.docx', '~$Qrtr Review.xlsx', '~$ssword.docx']\n"
     ]
    }
   ],
   "source": [
    "import os\n",
    "import numpy as np\n",
    "import pandas as pd\n",
    "from PIL import Image\n",
    "from cv2 import resize\n",
    "import matplotlib.pyplot as plt\n",
    "print(os.listdir(\"C:\\\\Users\\\\mrinal\\\\Desktop\"))\n"
   ]
  },
  {
   "cell_type": "code",
   "execution_count": 7,
   "metadata": {},
   "outputs": [
    {
     "ename": "FileNotFoundError",
     "evalue": "[WinError 3] The system cannot find the path specified: '/kaggle/input/keras-vgg16-places365/'",
     "output_type": "error",
     "traceback": [
      "\u001b[1;31m---------------------------------------------------------------------------\u001b[0m",
      "\u001b[1;31mFileNotFoundError\u001b[0m                         Traceback (most recent call last)",
      "\u001b[1;32m<ipython-input-7-8c0b6dc7182a>\u001b[0m in \u001b[0;36m<module>\u001b[1;34m()\u001b[0m\n\u001b[0;32m      1\u001b[0m \u001b[1;31m# VGG 16 Places 365 scripts in custom dataset\u001b[0m\u001b[1;33m\u001b[0m\u001b[1;33m\u001b[0m\u001b[0m\n\u001b[1;32m----> 2\u001b[1;33m \u001b[0mos\u001b[0m\u001b[1;33m.\u001b[0m\u001b[0mchdir\u001b[0m\u001b[1;33m(\u001b[0m\u001b[1;34m\"/kaggle/input/keras-vgg16-places365/\"\u001b[0m\u001b[1;33m)\u001b[0m\u001b[1;33m\u001b[0m\u001b[0m\n\u001b[0m\u001b[0;32m      3\u001b[0m \u001b[1;32mfrom\u001b[0m \u001b[0mvgg16_places_365\u001b[0m \u001b[1;32mimport\u001b[0m \u001b[0mVGG16_Places365\u001b[0m\u001b[1;33m\u001b[0m\u001b[0m\n\u001b[0;32m      4\u001b[0m \u001b[0mos\u001b[0m\u001b[1;33m.\u001b[0m\u001b[0mchdir\u001b[0m\u001b[1;33m(\u001b[0m\u001b[1;34m\"/kaggle/working/\"\u001b[0m\u001b[1;33m)\u001b[0m\u001b[1;33m\u001b[0m\u001b[0m\n",
      "\u001b[1;31mFileNotFoundError\u001b[0m: [WinError 3] The system cannot find the path specified: '/kaggle/input/keras-vgg16-places365/'"
     ]
    }
   ],
   "source": [
    "# VGG 16 Places 365 scripts in custom dataset\n",
    "os.chdir(\"/kaggle/input/keras-vgg16-places365/\")\n",
    "from vgg16_places_365 import VGG16_Places365\n",
    "os.chdir(\"/kaggle/working/\")"
   ]
  }
 ],
 "metadata": {
  "kernelspec": {
   "display_name": "Python 3",
   "language": "python",
   "name": "python3"
  },
  "language_info": {
   "codemirror_mode": {
    "name": "ipython",
    "version": 3
   },
   "file_extension": ".py",
   "mimetype": "text/x-python",
   "name": "python",
   "nbconvert_exporter": "python",
   "pygments_lexer": "ipython3",
   "version": "3.6.3"
  }
 },
 "nbformat": 4,
 "nbformat_minor": 2
}
