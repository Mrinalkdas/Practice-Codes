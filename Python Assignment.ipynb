{
 "cells": [
  {
   "cell_type": "markdown",
   "metadata": {},
   "source": [
    "# Python Assignment"
   ]
  },
  {
   "cell_type": "code",
   "execution_count": 1,
   "metadata": {
    "collapsed": true
   },
   "outputs": [],
   "source": [
    "import numpy as np\n",
    "import pandas as pd"
   ]
  },
  {
   "cell_type": "markdown",
   "metadata": {},
   "source": [
    "## Solution 1"
   ]
  },
  {
   "cell_type": "code",
   "execution_count": 3,
   "metadata": {},
   "outputs": [
    {
     "name": "stdout",
     "output_type": "stream",
     "text": [
      "Enter multiple value: 1 2 3 4 5 6 7 8\n",
      "[1, 2, 3, 4, 5, 6, 7, 8]\n"
     ]
    },
    {
     "data": {
      "text/plain": [
       "array([[1, 2, 3, 4],\n",
       "       [5, 6, 7, 8]])"
      ]
     },
     "execution_count": 3,
     "metadata": {},
     "output_type": "execute_result"
    }
   ],
   "source": [
    "lst = []\n",
    "\n",
    "lst = [int(x) for x in input(\"Enter multiple value: \").split()] \n",
    "print(lst)\n",
    "\n",
    "myarr = np.asarray(lst)\n",
    "myarr.reshape(2,4)"
   ]
  },
  {
   "cell_type": "markdown",
   "metadata": {},
   "source": [
    "## Solution 2"
   ]
  },
  {
   "cell_type": "code",
   "execution_count": 4,
   "metadata": {},
   "outputs": [
    {
     "name": "stdout",
     "output_type": "stream",
     "text": [
      "Enter multiple value: 1 2 2 4\n",
      "Float converted array [ 1.  2.  2.  4.]\n",
      "Reverse of float converted array [ 4.  2.  2.  1.]\n"
     ]
    }
   ],
   "source": [
    "lst = []\n",
    "\n",
    "lst = [int(x) for x in input(\"Enter multiple value: \").split()]\n",
    "\n",
    "myarr = np.asarray(lst)\n",
    "\n",
    "float_arr = myarr.astype(np.float)\n",
    "\n",
    "print(\"Float converted array\", float_arr)\n",
    "\n",
    "reverse_a = float_arr[::-1]\n",
    "\n",
    "print(\"Reverse of float converted array\", reverse_a)"
   ]
  },
  {
   "cell_type": "markdown",
   "metadata": {},
   "source": [
    "## Solution 3"
   ]
  },
  {
   "cell_type": "code",
   "execution_count": 8,
   "metadata": {},
   "outputs": [
    {
     "name": "stdout",
     "output_type": "stream",
     "text": [
      "2 2\n",
      "1 3 5 6\n",
      "Original Array\n",
      "[[ 1.  3.]\n",
      " [ 5.  6.]]\n",
      "\n",
      "Transoposed Array\n",
      "[[ 1.  5.]\n",
      " [ 3.  6.]]\n",
      "\n",
      "Flattened Array\n",
      "[ 1.  3.  5.  6.]\n"
     ]
    }
   ],
   "source": [
    "x, y = input().split()\n",
    "i = int(x)\n",
    "j = int(y)\n",
    "\n",
    "inp = input().split()\n",
    "for a in range(i):\n",
    "    for b in range(j):\n",
    "        arr[a][b]=inp[a*j+b]\n",
    "    \n",
    "print(\"Original Array\")\n",
    "print(arr)\n",
    "\n",
    "print(\"\\nTransoposed Array\")\n",
    "print(arr.transpose())\n",
    "\n",
    "print(\"\\nFlattened Array\")\n",
    "print(arr.flatten())"
   ]
  },
  {
   "cell_type": "markdown",
   "metadata": {},
   "source": [
    "## Solution 4"
   ]
  },
  {
   "cell_type": "code",
   "execution_count": 11,
   "metadata": {},
   "outputs": [
    {
     "name": "stdout",
     "output_type": "stream",
     "text": [
      "2 2 2\n",
      "1 2\n",
      "1 2\n",
      "1 5\n",
      "3 5\n",
      "Concatenated Array\n",
      "[[ 1.  2.]\n",
      " [ 1.  2.]\n",
      " [ 1.  5.]\n",
      " [ 3.  5.]]\n"
     ]
    }
   ],
   "source": [
    "x,y,z = input().split()\n",
    "\n",
    "a = int(x)\n",
    "b = int(y)\n",
    "c = int(z)\n",
    "\n",
    "temp_arr1 = np.zeros((a,c))\n",
    "temp_arr2 = np.zeros((b,c))\n",
    "\n",
    "for i in range(0,a):\n",
    "    inp = input().split()\n",
    "    for j in range(0,c):\n",
    "        temp_arr1[i][j] = inp[j]\n",
    "\n",
    "i2 = b\n",
    "\n",
    "for i2 in range(0,b):\n",
    "    inp2 = input().split()\n",
    "    for j2 in range(c):\n",
    "        temp_arr2[i2][j2] = inp2[j2]\n",
    "        \n",
    "concat_arr = np.concatenate((temp_arr1, temp_arr2))\n",
    "print(\"Concatenated Array\")\n",
    "print (concat_arr)"
   ]
  },
  {
   "cell_type": "markdown",
   "metadata": {},
   "source": [
    "# Solution 5"
   ]
  },
  {
   "cell_type": "code",
   "execution_count": 14,
   "metadata": {},
   "outputs": [
    {
     "name": "stdout",
     "output_type": "stream",
     "text": [
      "4 2 2\n",
      "Zero Array\n",
      "[[0 0]\n",
      " [0 0]]\n",
      "[[0 0]\n",
      " [0 0]]\n",
      "[[0 0]\n",
      " [0 0]]\n",
      "[[0 0]\n",
      " [0 0]]\n",
      "\n",
      "Ones Array\n",
      "[[1 1]\n",
      " [1 1]]\n",
      "[[1 1]\n",
      " [1 1]]\n",
      "[[1 1]\n",
      " [1 1]]\n",
      "[[1 1]\n",
      " [1 1]]\n"
     ]
    }
   ],
   "source": [
    "x, y, z = input().split()\n",
    "\n",
    "i = int(x)\n",
    "j = int(y)\n",
    "k = int(z)\n",
    "\n",
    "arr1 = np.zeros((j,k), dtype = np.int)\n",
    "arr2 = np.ones((j,k), dtype = np.int)\n",
    "\n",
    "print(\"Zero Array\")\n",
    "for a in range (i):\n",
    "    print(arr1)\n",
    "    \n",
    "print(\"\\nOnes Array\")\n",
    "for a in range (i):\n",
    "    print(arr2)"
   ]
  },
  {
   "cell_type": "markdown",
   "metadata": {},
   "source": [
    "## Solution 6"
   ]
  },
  {
   "cell_type": "code",
   "execution_count": 15,
   "metadata": {},
   "outputs": [
    {
     "name": "stdout",
     "output_type": "stream",
     "text": [
      "2 2\n",
      "1 2\n",
      "3 4\n",
      "2 4\n",
      "4 5\n",
      "\n",
      "\n",
      "Array Sum \n",
      " [[3 6]\n",
      " [7 9]]\n",
      "\n",
      "\n",
      "Array Subtraction\n",
      " [[-1 -2]\n",
      " [-1 -1]]\n",
      "\n",
      "\n",
      "Array Multiplication\n",
      " [[ 2  8]\n",
      " [12 20]]\n",
      "\n",
      "\n",
      "Array Division\n",
      " [[ 0.5   0.5 ]\n",
      " [ 0.75  0.8 ]]\n",
      "\n",
      "\n",
      "Array Mod\n",
      " [[1 2]\n",
      " [3 4]]\n",
      "\n",
      "\n",
      "Array Power\n",
      " [[   1   16]\n",
      " [  81 1024]]\n"
     ]
    }
   ],
   "source": [
    "x, y = input().split()\n",
    "\n",
    "i = int(x)\n",
    "j = int(y)\n",
    "\n",
    "arr1 = np.zeros((i,j), dtype = np.int)\n",
    "arr2 = np.zeros((i,j), dtype = np.int)\n",
    "\n",
    "for a in range(0,i):\n",
    "    inp = input().split()\n",
    "    for b in range(0,j):\n",
    "        arr1[a][b] = inp[b]\n",
    "        \n",
    "\n",
    "for a in range(0,i):\n",
    "    inp = input().split()\n",
    "    for b in range(0,j):\n",
    "        arr2[a][b] = inp[b]\n",
    "\n",
    "print(\"\\n\")\n",
    "print(\"Array Sum \\n\", arr1+arr2)\n",
    "\n",
    "print(\"\\n\")\n",
    "print(\"Array Subtraction\\n\", arr1-arr2)\n",
    "\n",
    "print(\"\\n\")\n",
    "print(\"Array Multiplication\\n\", arr1*arr2)\n",
    "\n",
    "print(\"\\n\")\n",
    "print(\"Array Division\\n\", arr1/arr2)\n",
    "\n",
    "print(\"\\n\")\n",
    "print(\"Array Mod\\n\",arr1%arr2)\n",
    "\n",
    "print(\"\\n\")\n",
    "print(\"Array Power\\n\",arr1**arr2)"
   ]
  },
  {
   "cell_type": "markdown",
   "metadata": {},
   "source": [
    "## Solution 7 - Floor, Ceiling & Rint"
   ]
  },
  {
   "cell_type": "code",
   "execution_count": 17,
   "metadata": {},
   "outputs": [
    {
     "name": "stdout",
     "output_type": "stream",
     "text": [
      "1.2 3.5 6.7 4.2 9.8 3.3\n",
      "Floor of array  [ 1.  3.  6.  4.  9.  3.]\n",
      "\n",
      "Ceiling of array  [  2.   4.   7.   5.  10.   4.]\n",
      "\n",
      "Rint of array  [  1.   4.   7.   4.  10.   3.]\n"
     ]
    }
   ],
   "source": [
    "list = input().split()\n",
    "\n",
    "arr=[float(e) for e in list]\n",
    "\n",
    "print (\"Floor of array \", np.floor(arr))\n",
    "\n",
    "print (\"\\nCeiling of array \", np.ceil(arr))\n",
    "\n",
    "print (\"\\nRint of array \", np.rint(arr))"
   ]
  },
  {
   "cell_type": "markdown",
   "metadata": {},
   "source": [
    "## Solution 8 - Sum & Prod Function"
   ]
  },
  {
   "cell_type": "code",
   "execution_count": 20,
   "metadata": {},
   "outputs": [
    {
     "name": "stdout",
     "output_type": "stream",
     "text": [
      "2 3\n",
      "1 2 4\n",
      "2 4 6\n",
      "\n",
      "Sum of array elements\n",
      "[  3.   6.  10.]\n",
      "\n",
      "Product of array elements\n",
      "180.0\n"
     ]
    }
   ],
   "source": [
    "x, y = input().split()\n",
    "\n",
    "a = int(x)\n",
    "b = int(y)\n",
    "\n",
    "arr1 = np.zeros((a,b))\n",
    "\n",
    "for i in range(0,a):\n",
    "    inp = input().split()\n",
    "    for j in range(0,b):\n",
    "        arr1[i][j] = inp[j]\n",
    "\n",
    "temp_arr1 = np.sum(arr1, axis = 0)\n",
    "\n",
    "print(\"\\nSum of array elements\")\n",
    "print(temp_arr1)\n",
    "\n",
    "print(\"\\nProduct of array elements\")\n",
    "print(np.prod(temp_arr1))"
   ]
  },
  {
   "cell_type": "markdown",
   "metadata": {},
   "source": [
    "## Solution 9 - Min and Max"
   ]
  },
  {
   "cell_type": "code",
   "execution_count": 21,
   "metadata": {},
   "outputs": [
    {
     "name": "stdout",
     "output_type": "stream",
     "text": [
      "2 3\n",
      "1 2 3\n",
      "3 4 5\n",
      "\n",
      "Max along axis = 0\n",
      "5.0\n",
      "\n",
      "Max along axis = 1\n",
      "5.0\n"
     ]
    }
   ],
   "source": [
    "x, y = input().split()\n",
    "\n",
    "a = int(x)\n",
    "b = int(y)\n",
    "\n",
    "arr1 = np.zeros((a,b))\n",
    "\n",
    "for i in range(0,a):\n",
    "    inp = input().split()\n",
    "    for j in range(0,b):\n",
    "        arr1[i][j] = inp[j]\n",
    "        \n",
    "\n",
    "temp_arr = np.min(arr1,axis = 0)\n",
    "print(\"\\nMax along axis = 0\")\n",
    "print(np.max(arr1))\n",
    "\n",
    "temp_arr = np.min(arr1,axis = 1)\n",
    "print(\"\\nMax along axis = 1\")\n",
    "print(np.max(arr1))"
   ]
  },
  {
   "cell_type": "markdown",
   "metadata": {},
   "source": [
    "## Solution 10 - Mean, Standard Deviation and Variance"
   ]
  },
  {
   "cell_type": "code",
   "execution_count": 22,
   "metadata": {},
   "outputs": [
    {
     "name": "stdout",
     "output_type": "stream",
     "text": [
      "2 3\n",
      "1 3 5\n",
      "3 4 6\n",
      "\n",
      "Mean of Array\n",
      "[ 2.   3.5  5.5]\n",
      "[ 3.          4.33333333]\n",
      "\n",
      "Variance of Array\n",
      "[ 1.    0.25  0.25]\n",
      "[ 2.66666667  1.55555556]\n",
      "\n",
      "Standard deviation of Array\n",
      "[ 1.   0.5  0.5]\n",
      "[ 1.63299316  1.24721913]\n"
     ]
    }
   ],
   "source": [
    "x, y = input().split()\n",
    "\n",
    "a = int(x)\n",
    "b = int(y)\n",
    "\n",
    "arr1 = np.zeros((a,b))\n",
    "\n",
    "for i in range(0,a):\n",
    "    inp = input().split()\n",
    "    for j in range(0,b):\n",
    "        arr1[i][j] = inp[j]\n",
    "        \n",
    "print(\"\\nMean of Array\")\n",
    "print(np.mean(arr1,axis=0))\n",
    "print(np.mean(arr1,axis=1))\n",
    "\n",
    "print(\"\\nVariance of Array\")\n",
    "print(np.var(arr1,axis=0))\n",
    "print(np.var(arr1,axis=1))\n",
    "\n",
    "print(\"\\nStandard deviation of Array\")\n",
    "print(np.std(arr1,axis=0))\n",
    "print(np.std(arr1,axis=1))"
   ]
  }
 ],
 "metadata": {
  "kernelspec": {
   "display_name": "Python 3",
   "language": "python",
   "name": "python3"
  },
  "language_info": {
   "codemirror_mode": {
    "name": "ipython",
    "version": 3
   },
   "file_extension": ".py",
   "mimetype": "text/x-python",
   "name": "python",
   "nbconvert_exporter": "python",
   "pygments_lexer": "ipython3",
   "version": "3.6.3"
  }
 },
 "nbformat": 4,
 "nbformat_minor": 2
}
